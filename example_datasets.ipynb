{
 "cells": [
  {
   "cell_type": "markdown",
   "metadata": {},
   "source": [
    "# Example for dataset loading and analysis\n",
    "\n",
    "This notebook shows a concrete example inspired from my `Tacotron-2` model with the `SIWIS` dataset\n",
    "\n",
    "Of course I will not post the dataset in the repo so pay attention to load it before executing the notebook !\n",
    "\n",
    "It will be a 3 step processing with : \n",
    "1. **Encoding** : text encoding + mel-spectrogram loading\n",
    "2. **Filtering** : filter audios longer than a given time\n",
    "3. **Augmentation** : augment the input mel spectrogram"
   ]
  },
  {
   "cell_type": "markdown",
   "metadata": {},
   "source": [
    "## 1) Imports and loading"
   ]
  },
  {
   "cell_type": "code",
   "execution_count": 1,
   "metadata": {},
   "outputs": [],
   "source": [
    "import numpy as np\n",
    "import tensorflow as tf\n",
    "\n",
    "from utils import plot_spectrogram, set_display_options\n",
    "from utils.audio import load_mel, TacotronSTFT\n",
    "from utils.text import default_french_encoder\n",
    "from datasets import get_dataset, print_datasets, prepare_dataset, test_dataset_time\n",
    "\n",
    "set_display_options(width = 125, rows = 10)"
   ]
  },
  {
   "cell_type": "code",
   "execution_count": 2,
   "metadata": {},
   "outputs": [
    {
     "name": "stdout",
     "output_type": "stream",
     "text": [
      "Loading dataset siwis...\n",
      "========== Text encoder ==========\n",
      "Vocab (size = 70) : ['_', '-', '!', \"'\", '(', ')', ',', '.', ':', ';', '?', ' ', 'A', 'B', 'C', 'D', 'E', 'F', 'G', 'H', 'I', 'J', 'K', 'L', 'M', 'N', 'O', 'P', 'Q', 'R', 'S', 'T', 'U', 'V', 'W', 'X', 'Y', 'Z', 'a', 'b', 'c', 'd', 'e', 'f', 'g', 'h', 'i', 'j', 'k', 'l']\n",
      "Config : {\n",
      "  \"level\": 0,\n",
      "  \"lstrip\": false,\n",
      "  \"rstrip\": false,\n",
      "  \"cleaners\": [\n",
      "    \"french_cleaners\"\n",
      "  ],\n",
      "  \"split_pattern\": null,\n",
      "  \"bpe_end_of_word\": null,\n",
      "  \"pad_token\": \"\",\n",
      "  \"sep_token\": null,\n",
      "  \"ukn_token\": null,\n",
      "  \"sos_token\": \"[SOS]\",\n",
      "  \"eos_token\": \"[EOS]\",\n",
      "  \"mask_token\": null,\n",
      "  \"sub_word_prefix\": \"\",\n",
      "  \"use_sos_and_eos\": false\n",
      "}\n",
      "\n",
      "========== TacotronSTFT ==========\n",
      "filter_length\t: 1024\n",
      "hop_length\t: 256\n",
      "win_length\t: 1024\n",
      "n_mel_channels\t: 80\n",
      "sampling_rate\t: 22050\n",
      "mel_fmin\t: 0.0\n",
      "mel_fmax\t: 8000.0\n",
      "normalize_mode\t: None\n",
      "pre_emph\t: 0.0\n",
      "window\t: hann\n",
      "to_magnitude\t: True\n",
      "periodic\t: True\n",
      "\n",
      "                                            filename                                               text  \\\n",
      "0  D:/datasets/SIWIS\\fr\\wavs\\part1\\neut_parl_s01_...  Benoît Hamon, monsieur le ministre, ce texte, ...   \n",
      "1  D:/datasets/SIWIS\\fr\\wavs\\part1\\neut_parl_s01_...               Cette lutte se situe à deux niveaux.   \n",
      "2  D:/datasets/SIWIS\\fr\\wavs\\part1\\neut_parl_s01_...                      Venons-en maintenant au fond.   \n",
      "3  D:/datasets/SIWIS\\fr\\wavs\\part1\\neut_parl_s01_...              Peu à peu, ils mobilisent des moyens.   \n",
      "4  D:/datasets/SIWIS\\fr\\wavs\\part1\\neut_parl_s01_...  S’il y a unanimité pour augmenter le volume, n...   \n",
      "\n",
      "  mels_22050_chann-80_filt-1024_hop-256_win-1024_norm-None                                         wavs_16000  \\\n",
      "0  D:/datasets/SIWIS\\fr\\mels_22050_chann-80_filt-...        D:/datasets/SIWIS\\fr\\wavs_16000\\part1\\neut_par...   \n",
      "1  D:/datasets/SIWIS\\fr\\mels_22050_chann-80_filt-...        D:/datasets/SIWIS\\fr\\wavs_16000\\part1\\neut_par...   \n",
      "2  D:/datasets/SIWIS\\fr\\mels_22050_chann-80_filt-...        D:/datasets/SIWIS\\fr\\wavs_16000\\part1\\neut_par...   \n",
      "3  D:/datasets/SIWIS\\fr\\mels_22050_chann-80_filt-...        D:/datasets/SIWIS\\fr\\wavs_16000\\part1\\neut_par...   \n",
      "4  D:/datasets/SIWIS\\fr\\mels_22050_chann-80_filt-...        D:/datasets/SIWIS\\fr\\wavs_16000\\part1\\neut_par...   \n",
      "\n",
      "                                          wavs_22050                                         wavs_44100  time dataset_name  \\\n",
      "0  D:/datasets/SIWIS\\fr\\wavs_22050\\part1\\neut_par...  D:/datasets/SIWIS\\fr\\wavs\\part1\\neut_parl_s01_...  -1.0        siwis   \n",
      "1  D:/datasets/SIWIS\\fr\\wavs_22050\\part1\\neut_par...  D:/datasets/SIWIS\\fr\\wavs\\part1\\neut_parl_s01_...  -1.0        siwis   \n",
      "2  D:/datasets/SIWIS\\fr\\wavs_22050\\part1\\neut_par...  D:/datasets/SIWIS\\fr\\wavs\\part1\\neut_parl_s01_...  -1.0        siwis   \n",
      "3  D:/datasets/SIWIS\\fr\\wavs_22050\\part1\\neut_par...  D:/datasets/SIWIS\\fr\\wavs\\part1\\neut_parl_s01_...  -1.0        siwis   \n",
      "4  D:/datasets/SIWIS\\fr\\wavs_22050\\part1\\neut_par...  D:/datasets/SIWIS\\fr\\wavs\\part1\\neut_parl_s01_...  -1.0        siwis   \n",
      "\n",
      "      id  \n",
      "0  siwis  \n",
      "1  siwis  \n",
      "2  siwis  \n",
      "3  siwis  \n",
      "4  siwis  \n",
      "Dataset size : 9763\n"
     ]
    }
   ],
   "source": [
    "text_encoder = default_french_encoder()\n",
    "\n",
    "mel_fn = TacotronSTFT()\n",
    "# Assumes the dataset is located at `D:/datasets/SIWIS`\n",
    "# You can change the default position in `datasets/custom_datasets/__init__.py`\n",
    "siwis = get_dataset('siwis')\n",
    "\n",
    "print(text_encoder)\n",
    "print(mel_fn)\n",
    "print(siwis.head())\n",
    "print(\"Dataset size : {}\".format(len(siwis)))"
   ]
  },
  {
   "cell_type": "markdown",
   "metadata": {},
   "source": [
    "Some explanations on the dataset's keys :\n",
    "- `wavs_{rate}`  : pre-processed files, resampled to the given rate (to avoid resampling while training)\n",
    "- `dataset_name` : the dataset's name (useful when you load multiple datasets)\n",
    "- `id`           : the speaker's id (in this case, only *siwis* as the dataset is single-speaker)"
   ]
  },
  {
   "cell_type": "markdown",
   "metadata": {},
   "source": [
    "## 2) Prepare processing pipeline"
   ]
  },
  {
   "cell_type": "code",
   "execution_count": 3,
   "metadata": {},
   "outputs": [],
   "source": [
    "# These lengths correspond to approximately 10sec audio\n",
    "max_input_length = 150\n",
    "max_output_length = 1024\n",
    "augment_prct = 0.25\n",
    "\n",
    "def encode_text(text):\n",
    "    if isinstance(text, tf.Tensor):\n",
    "        text = text.numpy()\n",
    "        if isinstance(text, (list, np.ndarray)):\n",
    "            text = [p.decode('utf-8') for p in text]\n",
    "        else:\n",
    "            text = text.decode('utf-8')\n",
    "    elif isinstance(text, bytes):\n",
    "        text = text.decode('utf-8')\n",
    "    \n",
    "    return text_encoder.encode(text)\n",
    "    \n",
    "def decode_text(encoded):\n",
    "    return text_encoder.decode(encoded)\n",
    "        \n",
    "def get_mel_input(data):\n",
    "    mel = load_mel(data, mel_fn)\n",
    "    # Add a `go_frame` (filled of 0) as 1st frame\n",
    "    mel = tf.concat([tf.zeros((1, mel_fn.n_mel_channels), dtype = tf.float32), mel], axis = 0)\n",
    "            \n",
    "    return mel\n",
    "    \n",
    "def encode_data(data):\n",
    "    \"\"\" Encode text + load spectrogram in `tensorflow graph mode` \"\"\"\n",
    "    encoded_text = tf.py_function(encode_text, [data['text']], Tout = tf.int32)\n",
    "    encoded_text.set_shape([None])\n",
    "        \n",
    "    mel = get_mel_input(data)\n",
    "    \n",
    "    return encoded_text, len(encoded_text), mel, len(mel), mel\n",
    "        \n",
    "def filter_data(text, text_length, mel_input, mel_length, mel_output):\n",
    "    \"\"\" Return `True` if audio and text are shorter than given thresholds \"\"\"\n",
    "    return tf.logical_and(text_length <= max_input_length, \n",
    "                          mel_length <= max_output_length)\n",
    "    \n",
    "def augment_mel(mel):\n",
    "    \"\"\" Augment spectrogram given a probability (25% in this case) \"\"\"\n",
    "    return tf.cond(\n",
    "        tf.random.uniform(()) < augment_prct,\n",
    "        lambda: mel + tf.random.normal(tf.shape(mel)),\n",
    "        lambda: mel\n",
    "    )\n",
    "        \n",
    "def augment_data(text, text_length, mel_input, mel_length, mel_output):\n",
    "    \"\"\" Augment mel input (but not mel output !) \"\"\"\n",
    "    mel_input = augment_mel(mel_input)\n",
    "        \n",
    "    return text, text_length, mel_input, mel_length, mel_output\n",
    "    \n",
    "def preprocess_data(text, text_length, mel_input, mel_length, mel_output):\n",
    "    \"\"\" Remove `go_frame` from target and last frame from input (performed on padded batch) \"\"\"\n",
    "    mel_input   = mel_input[:, :-1]\n",
    "    mel_output  = mel_output[:, 1:]\n",
    "    \n",
    "    return (text, text_length, mel_input, mel_length), mel_output\n"
   ]
  },
  {
   "cell_type": "markdown",
   "metadata": {},
   "source": [
    "## 3) Build the dataset and test it\n",
    "\n",
    "The `config` variable is typically something put in the `get_dataset_config()` method of the model\n",
    "\n",
    "The `pad_before_map` tells to batch before applying the `map_fn` argument (here the `preprocess_data`). This is important to remove last frames of datas but to remove padding frames\n",
    "\n",
    "Actually the impact is more important in the real tacotron model where we need a `gate` variable which is 1 only for the latest frame so that we need to remove it after padding otherwise we remove the only 1 value\n",
    "\n",
    "The `pad_values` is also more important with the `gate` as we can pad this particular variable with 1 instead of 0 (same for text we pad with `text_encoder.blank_token_idx`)\n",
    "\n",
    "For the example I do not set the `shuffle_size` argument so that you can see the 1st text in 1st batch well corresponds to the 1st row in the `siwis` dataset\n",
    "\n",
    "The `padded_shapes` is only relevant if you want to pad to a fixed size. If you want to pad to the longest data, you can skip it."
   ]
  },
  {
   "cell_type": "code",
   "execution_count": 4,
   "metadata": {},
   "outputs": [],
   "source": [
    "config = {\n",
    "    'padded_batch' : True, # as data are variable length, we need padded batch\n",
    "    'pad_kwargs' : { # here are the configuration for the padding\n",
    "        #'padded_shapes'     : (\n",
    "        #    (None,), (), (None, mel_fn.n_mel_channels), (),\n",
    "        #    (None, mel_fn.n_mel_channels)\n",
    "        #),\n",
    "        'padding_values'    : (text_encoder.blank_token_idx, 0, 0., 0, 0.)\n",
    "    },\n",
    "    'batch_before_map' : True\n",
    "}\n",
    "\n",
    "dataset = prepare_dataset(\n",
    "    siwis,\n",
    "    encode_fn  = encode_data,\n",
    "    filter_fn  = filter_data,\n",
    "    augment_fn = augment_data,\n",
    "    map_fn     = preprocess_data,\n",
    "    ** config,\n",
    "    # shuffle_size = 1024,\n",
    "    batch_size = 32, cache = False, prefetch = True\n",
    ")"
   ]
  },
  {
   "cell_type": "code",
   "execution_count": 5,
   "metadata": {},
   "outputs": [
    {
     "name": "stdout",
     "output_type": "stream",
     "text": [
      "Batch n°1\n",
      "Text lengths : [65 36 29 37 60 54 70 77 38 26 89 51 64 46 87 27 31 39 78 48 50 81 34 52\n",
      " 73 45 23 75 35 58 77 59]\n",
      "Mel lengths : [412 189 163 215 334 286 423 368 205 132 505 327 336 258 566 153 194 207\n",
      " 422 230 275 454 181 228 380 222 126 397 211 259 410 300]\n",
      "Encoded text[0] : [39 42 51 52 67 57 11 45 38 50 52 51  6 11 50 52 51 56 46 42 58 55 11 49\n",
      " 42 11 50 46 51 46 56 57 55 42  6 11 40 42 11 57 42 61 57 42  6 11 40  3\n",
      " 42 56 57 11 59 52 57 55 42 11 53 55 52 47 42 57  7  0  0  0  0  0  0  0\n",
      "  0  0  0  0  0  0  0  0  0  0  0  0  0  0  0  0  0]\n",
      "Decoded text[0] : benoît hamon, monsieur le ministre, ce texte, c'est votre projet.\n"
     ]
    },
    {
     "data": {
      "image/png": "[encoded data removed]",
      "text/plain": [
       "<Figure size 360x216 with 2 Axes>"
      ]
     },
     "metadata": {
      "needs_background": "dark"
     },
     "output_type": "display_data"
    },
    {
     "name": "stdout",
     "output_type": "stream",
     "text": [
      "Batch n°2\n",
      "Text lengths : [23 30 64 64 24 41 86 41 79 66 60 45 34 35 91 62 73 57 26 73 72 50 54 44\n",
      " 45 56 57 43 90 61 44 42]\n",
      "Mel lengths : [135 150 308 345 131 194 519 194 347 356 313 255 163 192 423 351 334 277\n",
      " 191 288 333 240 237 194 250 283 303 262 434 324 220 222]\n",
      "Encoded text[0] : [51 58 49 11 51 42 11 53 42 58 57 11 49  3 38 43 43 46 55 50 42 55  7  0\n",
      "  0  0  0  0  0  0  0  0  0  0  0  0  0  0  0  0  0  0  0  0  0  0  0  0\n",
      "  0  0  0  0  0  0  0  0  0  0  0  0  0  0  0  0  0  0  0  0  0  0  0  0\n",
      "  0  0  0  0  0  0  0  0  0  0  0  0  0  0  0  0  0  0  0]\n",
      "Decoded text[0] : nul ne peut l'affirmer.\n"
     ]
    },
    {
     "data": {
      "image/png": "[encoded data removed]",
      "text/plain": [
       "<Figure size 360x216 with 2 Axes>"
      ]
     },
     "metadata": {
      "needs_background": "dark"
     },
     "output_type": "display_data"
    }
   ],
   "source": [
    "n = 2\n",
    "for i, (inputs, outputs) in enumerate(dataset):\n",
    "    if i >= n: break\n",
    "    print(\"Batch n°{}\".format(i+1))\n",
    "    text, text_length, mel, mel_length = inputs\n",
    "    \n",
    "    print(\"Text lengths : {}\".format(tf.squeeze(text_length)))\n",
    "    print(\"Mel lengths : {}\".format(tf.squeeze(mel_length)))\n",
    "    \n",
    "    print(\"Encoded text[0] : {}\".format(text[0]))\n",
    "    print(\"Decoded text[0] : {}\".format(decode_text(text[0].numpy())))\n",
    "    plot_spectrogram(spectrogram_0 = mel[0])"
   ]
  },
  {
   "cell_type": "markdown",
   "metadata": {},
   "source": [
    "As we can see in plots, the white zone is the padding and the mel length well corresponds to the 1st value in mel length !"
   ]
  },
  {
   "cell_type": "markdown",
   "metadata": {},
   "source": [
    "## 4) Testing performances\n",
    "\n",
    "Now the pipeline is done we can test its performance ! \n",
    "\n",
    "The `test_dataset_time` generates `steps` (default 100) batches and compute the average time per batch. If we provide the `batch_size`, it also computes the time to generate 1 single sample\n",
    "\n",
    "At the end, if verbosity is set to `True`, it also shows shapes and types of the last generated batch\n",
    "\n",
    "It also shows statistics on this batch which allows to check if values are consistent or not\n",
    "\n",
    "Here we can see that : \n",
    "- Tokens goes from 0 to 69 as int32\n",
    "- Text lengths are between 26 and 82 (for the latest batch)\n",
    "- Mel inputs has values between -15 and 4 but output mel has values between -11 and 1.9 --> mels in this batch has been augmented\n",
    "- Mel length are between 156 and 442\n",
    "\n",
    "You can also see that it computes 100 batches in less than 5 seconds which is really fast ! It means 3200 mel-spectrogram computed, some of them augmented and 3200 text encoding !"
   ]
  },
  {
   "cell_type": "code",
   "execution_count": 6,
   "metadata": {},
   "outputs": [
    {
     "name": "stderr",
     "output_type": "stream",
     "text": [
      "99it [00:07, 14.04it/s]"
     ]
    },
    {
     "name": "stdout",
     "output_type": "stream",
     "text": [
      "\n",
      "100 batchs in 7.050 sec sec (14.185 batch / sec) (453.931 samples / sec)\n",
      "Batch infos : \n",
      "Item 0 : \n",
      " Item 0 : shape : (32, 82) - type : int32- min : 0.000 - max : 68.000\n",
      " Item 1 : shape : (32,) - type : int32- min : 26.000 - max : 82.000\n",
      " Item 2 : shape : (32, 441, 80) - type : float32- min : -15.606 - max : 4.145\n",
      " Item 3 : shape : (32,) - type : int32- min : 154.000 - max : 442.000\n",
      "Item 1 : shape : (32, 441, 80) - type : float32- min : -11.513 - max : 1.925\n"
     ]
    },
    {
     "name": "stderr",
     "output_type": "stream",
     "text": [
      "\n"
     ]
    }
   ],
   "source": [
    "_ = test_dataset_time(dataset, batch_size = 32)"
   ]
  },
  {
   "cell_type": "markdown",
   "metadata": {},
   "source": [
    "## List all available datasets\n",
    "\n",
    "Note that these are custom datasets but you also have access to all `tensorflow_datasets` available datasets !\n",
    "\n",
    "**Important** these available datasets are *available* because their *annotation style* is handled and they have a default configuration but you still have to download them yourself and put them in the right directory (by default `D:/datasets/` or `/storage`). <br>\n",
    "You can modify their default configuration in the `datasets/custom_datasets/{dataset_type}_dataset.py` file"
   ]
  },
  {
   "cell_type": "code",
   "execution_count": 7,
   "metadata": {},
   "outputs": [
    {
     "name": "stdout",
     "output_type": "stream",
     "text": [
      "Task tts :\t('siwis', 'voxforge', 'common_voice', 'mls', 'librispeech', 'identification')\n",
      "Task stt :\t('siwis', 'voxforge', 'common_voice', 'mls', 'librispeech', 'identification')\n",
      "Task object classification :\t('image_directory',)\n",
      "Task face recognition :\t('essex', 'celeba', 'tdface', 'youtube_faces')\n",
      "Task object detection :\t('youtube_faces', 'wider', 'voc', 'coco', 'fungi', 'kangaroo', 'raccoon')\n",
      "Task object segmentation :\t('coco',)\n",
      "Task image captioning :\t('coco',)\n",
      "Task image generation :\t('anime_faces',)\n",
      "Task Q&A (English) :\t('coqa', 'nq', 'newsqa', 'qangaroo', 'squad', 'triviaqa')\n",
      "Task Translation :\t('europarl',)\n",
      "Task Text comparison :\t('parade', 'paws', 'qqp', 'snli', 'sts')\n",
      "Task Q&A (French) :\t('french_squad', 'fquad', 'piaf')\n",
      "Available keras datasets : ['cifar10', 'cifar100', 'fashion_mnist', 'imdb', 'mnist', 'reuters']\n"
     ]
    }
   ],
   "source": [
    "print_datasets()"
   ]
  },
  {
   "cell_type": "code",
   "execution_count": null,
   "metadata": {},
   "outputs": [],
   "source": []
  }
 ],
 "metadata": {
  "kernelspec": {
   "display_name": "Python 3",
   "language": "python",
   "name": "python3"
  },
  "language_info": {
   "codemirror_mode": {
    "name": "ipython",
    "version": 3
   },
   "file_extension": ".py",
   "mimetype": "text/x-python",
   "name": "python",
   "nbconvert_exporter": "python",
   "pygments_lexer": "ipython3",
   "version": "3.6.6"
  }
 },
 "nbformat": 4,
 "nbformat_minor": 4
}
